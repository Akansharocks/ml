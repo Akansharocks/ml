{
  "cells": [
    {
      "cell_type": "markdown",
      "metadata": {
        "id": "view-in-github",
        "colab_type": "text"
      },
      "source": [
        "<a href=\"https://colab.research.google.com/github/Akansharocks/ml/blob/main/MYwebscraper.ipynb\" target=\"_parent\"><img src=\"https://colab.research.google.com/assets/colab-badge.svg\" alt=\"Open In Colab\"/></a>"
      ]
    },
    {
      "cell_type": "code",
      "source": [
        "import requests\n",
        "from bs4 import BeautifulSoup\n",
        "import pandas as pd"
      ],
      "metadata": {
        "id": "r5iG1ZQ3PoQv"
      },
      "id": "r5iG1ZQ3PoQv",
      "execution_count": null,
      "outputs": []
    },
    {
      "cell_type": "code",
      "source": [
        "url = \"https://en.wikipedia.org/wiki/List_of_states_and_union_territories_of_India\"\n",
        "response = requests.get(url)"
      ],
      "metadata": {
        "id": "jEc7S1uLPvY4"
      },
      "id": "jEc7S1uLPvY4",
      "execution_count": null,
      "outputs": []
    },
    {
      "cell_type": "code",
      "source": [
        "soup = BeautifulSoup(response.text, \"html.parser\")  # Step 2: Parse the HTML content"
      ],
      "metadata": {
        "id": "AbX6KBhZP1-f"
      },
      "id": "AbX6KBhZP1-f",
      "execution_count": null,
      "outputs": []
    },
    {
      "cell_type": "code",
      "source": [
        "\n",
        "# Step 3: Find the correct table (wikitable class)\n",
        "table = soup.find('table', {'class': 'wikitable'})"
      ],
      "metadata": {
        "id": "kSqM4McQP8QB"
      },
      "id": "kSqM4McQP8QB",
      "execution_count": null,
      "outputs": []
    },
    {
      "cell_type": "code",
      "source": [
        "# Step 4: Extract data row by row\n",
        "data = []\n",
        "for row in table.find_all('tr')[1:]:  # skip header\n",
        "    cols = row.find_all('td')\n",
        "    if len(cols) >= 5:\n",
        "        state = cols[1].text.strip()\n",
        "        capital = cols[3].text.strip()\n",
        "        data.append([state, capital])"
      ],
      "metadata": {
        "id": "yjN-fA_qQATY"
      },
      "id": "yjN-fA_qQATY",
      "execution_count": null,
      "outputs": []
    },
    {
      "cell_type": "code",
      "source": [
        "# Step 5: Save or display the data\n",
        "df = pd.DataFrame(data, columns=['State/UT', 'Capital'])\n",
        "print(df)"
      ],
      "metadata": {
        "id": "txxsll3hQEt_",
        "outputId": "ee40a3fe-5395-4938-c7ef-3ccc47598f23",
        "colab": {
          "base_uri": "https://localhost:8080/"
        }
      },
      "id": "txxsll3hQEt_",
      "execution_count": null,
      "outputs": [
        {
          "output_type": "stream",
          "name": "stdout",
          "text": [
            "   State/UT                                    Capital\n",
            "0        AP                                  Amaravati\n",
            "1        AR                                   Itanagar\n",
            "2        AS                                     Dispur\n",
            "3        BR                                      Patna\n",
            "4        CG                                  Raipur[b]\n",
            "5        GA                                     Panaji\n",
            "6        GJ                                Gandhinagar\n",
            "7        HR                                 Chandigarh\n",
            "8        HP    Shimla (Summer)Dharamshala (Winter)[33]\n",
            "9        JH                                     Ranchi\n",
            "10       KA                                  Bengaluru\n",
            "11       KL                         Thiruvananthapuram\n",
            "12       MP                                     Bhopal\n",
            "13       MH     Mumbai (Summer)Nagpur (Winter)[38][39]\n",
            "14       MN                                     Imphal\n",
            "15       ML                                   Shillong\n",
            "16       MZ                                     Aizawl\n",
            "17       NL                                     Kohima\n",
            "18       OD                                Bhubaneswar\n",
            "19       PB                                 Chandigarh\n",
            "20       RJ                                     Jaipur\n",
            "21       SK                                    Gangtok\n",
            "22       TN                                    Chennai\n",
            "23   TG[41]                               Hyderabad[c]\n",
            "24       TR                                   Agartala\n",
            "25       UP                                    Lucknow\n",
            "26       UK  Bhararisain (Summer)Dehradun (Winter)[47]\n",
            "27       WB                                    Kolkata\n",
            "28                                                    \n"
          ]
        }
      ]
    }
  ],
  "metadata": {
    "kernelspec": {
      "display_name": "Python 3",
      "name": "python3"
    },
    "language_info": {
      "name": "python"
    },
    "required_libs": [],
    "colab": {
      "provenance": [],
      "include_colab_link": true
    }
  },
  "nbformat": 4,
  "nbformat_minor": 5
}